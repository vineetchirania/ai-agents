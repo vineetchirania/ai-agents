{
 "cells": [
  {
   "cell_type": "code",
   "execution_count": null,
   "id": "5a169ded-cee7-4572-a400-28aa211e1adc",
   "metadata": {},
   "outputs": [],
   "source": [
    "# Warning control\n",
    "import warnings\n",
    "warnings.filterwarnings('ignore')"
   ]
  },
  {
   "cell_type": "code",
   "execution_count": null,
   "id": "8c78a7ee-6e20-458d-b02e-4fa71171bc95",
   "metadata": {},
   "outputs": [],
   "source": [
    "from crewai import Agent, Task, Crew\n",
    "from crewai_tools import ScrapeWebsiteTool, SerperDevTool"
   ]
  },
  {
   "cell_type": "code",
   "execution_count": null,
   "id": "89ca1910-89e3-46f8-9e56-27038bb9099c",
   "metadata": {},
   "outputs": [],
   "source": [
    "import os\n",
    "os.environ[\"OPENAI_MODEL_NAME\"] = 'gpt-4o-mini'"
   ]
  },
  {
   "cell_type": "code",
   "execution_count": null,
   "id": "a554d235-7869-4515-b5a2-da8216ab4879",
   "metadata": {},
   "outputs": [],
   "source": [
    "# Initialize the tools\n",
    "search_tool = SerperDevTool()\n",
    "scrape_tool = ScrapeWebsiteTool()"
   ]
  },
  {
   "cell_type": "code",
   "execution_count": null,
   "id": "02b6a7bb-74c7-48cc-a035-adba5892932c",
   "metadata": {},
   "outputs": [],
   "source": [
    "# Creating Agents\n",
    "# Agent 1 - Venue Coordinator\n",
    "venue_coordinator_agent = Agent(\n",
    "    role = \"Venue Coordinator\",\n",
    "    goal = \"Search for an appropriate venue based on event requirements\",\n",
    "    backstory = \"We are orgainising a meetup of closed group of people who meet inside a restaurant/cafe and discuss stuffs \"\n",
    "                \" related to GenAI \",\n",
    "    tools = [search_tool, scrape_tool],\n",
    "    verbose = True,\n",
    "    allow_delegation = False,\n",
    ")\n",
    "\n",
    "# Agent 2 - Date-Venue Mapper\n",
    "date_venue_mapper_agent = Agent(\n",
    "    role = \"Date Venue Mapper\",\n",
    "    goal = \"Allocate venue for all future meetups starting tomorrow\",\n",
    "    backstory = \"We meet every Sunday for GenAI discussions starting tomorrow \"\n",
    "                \" and plan on getting venue decided now only \"\n",
    "                \" for all future meetups coming in next {month_count} months. \"\n",
    "                \" Get today's date from internet (double check today's date from mutiple sources) \"\n",
    "                \" and don't show any past dates \",\n",
    "    tools = [search_tool],\n",
    "    verbose = True,\n",
    "    allow_delegation = False,\n",
    ")"
   ]
  },
  {
   "cell_type": "code",
   "execution_count": null,
   "id": "61a31e81-4907-435f-bb21-7f62609a2494",
   "metadata": {},
   "outputs": [],
   "source": [
    "# Creating Tasks\n",
    "# Task 1 - Venue Locator\n",
    "venue_locator_task = Task(\n",
    "    description = \"Search for at least 10 cafes or restaurant in {location} \"\n",
    "                   \" which can accommodate at least {headcount} people. \"\n",
    "                    \" Make sure that the cafe serves really good coffee. Bonus points if it serves speciality coffee. \"\n",
    "                    \" Also it should be highly rated on zomato and swiggy both \"\n",
    "                    \" Choose only those cafes which are known to be quiet and ideal for discussions. \"\n",
    "                    \" Avoid places which serve alcohol \"\n",
    "                    \" Priotize those cafes which lie in the center of {location} \",\n",
    "    expected_output = \"List of venues with complete address, opening/closing timings, most recommended item, \"\n",
    "                        \" rating on zomato, rating on swiggy, distance from millenium city metro station\",\n",
    "    #human_input = True,\n",
    "    agent = venue_coordinator_agent,\n",
    ")\n",
    "\n",
    "# Task 2 - Date - Venue Mapping\n",
    "date_venue_mapping_task = Task(\n",
    "    description = \" Based on the top cafe/restaurant recommendations of venue_locator_task \"\n",
    "                    \" plan the venues for meetup which happens every Sunday for next {month_count} months \"\n",
    "                    \" Take start date as tomorrow and allocate one venue for each future meetup \"\n",
    "                    \" but ensure that the venue doesn't repeat \",\n",
    "    expected_output = \" List of future Sundays with date for next {month_count} months \"\n",
    "                        \" and the venue allocated to each meetup \"\n",
    "                        \" with complete address, opening/closing timings, most recommended item, \"\n",
    "                        \" rating on zomato, rating on swiggy, distance from millenium city metro station \",\n",
    "    agent = date_venue_mapper_agent,\n",
    "    human_input = True,\n",
    ")"
   ]
  },
  {
   "cell_type": "code",
   "execution_count": null,
   "id": "f879199a-dde2-4e87-aa7c-97dd576a4862",
   "metadata": {},
   "outputs": [],
   "source": [
    "venue_hunter_crew = Crew(\n",
    "    agents = [venue_coordinator_agent, date_venue_mapper_agent],\n",
    "    tasks = [venue_locator_task, date_venue_mapping_task],\n",
    "    verbose = True,\n",
    ")"
   ]
  },
  {
   "cell_type": "code",
   "execution_count": null,
   "id": "833f11f2-f24b-4005-95ca-8dbb21bb6e59",
   "metadata": {},
   "outputs": [],
   "source": [
    "event_details = {\n",
    "    \"location\": [\"Gurgaon, India\"],\n",
    "    \"headcount\": 10,\n",
    "    \"month_count\" : 3,\n",
    "}"
   ]
  },
  {
   "cell_type": "code",
   "execution_count": null,
   "id": "9b0cf936-2989-4000-b2d3-6bc56cbe2185",
   "metadata": {},
   "outputs": [],
   "source": [
    "result = venue_hunter_crew.kickoff(inputs=event_details)"
   ]
  },
  {
   "cell_type": "code",
   "execution_count": null,
   "id": "6e5126c2-6770-4761-876d-0243de9f06ae",
   "metadata": {},
   "outputs": [],
   "source": []
  }
 ],
 "metadata": {
  "kernelspec": {
   "display_name": "Python 3 (ipykernel)",
   "language": "python",
   "name": "python3"
  },
  "language_info": {
   "codemirror_mode": {
    "name": "ipython",
    "version": 3
   },
   "file_extension": ".py",
   "mimetype": "text/x-python",
   "name": "python",
   "nbconvert_exporter": "python",
   "pygments_lexer": "ipython3",
   "version": "3.12.7"
  }
 },
 "nbformat": 4,
 "nbformat_minor": 5
}
