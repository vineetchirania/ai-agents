{
 "cells": [
  {
   "cell_type": "code",
   "execution_count": null,
   "id": "e43cc4bb-c034-47d9-bd59-b576923169dd",
   "metadata": {},
   "outputs": [],
   "source": [
    "\"\"\"\n",
    "Create a travel planner which checks the flight prices from city A to city B\n",
    "within next 30 days and suggests cheapest flight for both to and fro journey\n",
    "It can be customised if user wants only direct flights or indirects are fine too\n",
    "\"\"\""
   ]
  },
  {
   "cell_type": "code",
   "execution_count": null,
   "id": "9cf0873a-33b3-4312-bf48-5c9208d8f1de",
   "metadata": {},
   "outputs": [],
   "source": [
    "import warnings\n",
    "warnings.filterwarnings('ignore')"
   ]
  },
  {
   "cell_type": "code",
   "execution_count": null,
   "id": "1f7bc958-0859-4fab-b038-5a29c6f1380e",
   "metadata": {},
   "outputs": [],
   "source": [
    "from crewai import Agent, Task, Crew\n",
    "from crewai_tools import ScrapeWebsiteTool, SerperDevTool"
   ]
  },
  {
   "cell_type": "code",
   "execution_count": null,
   "id": "fcd63f24-22ab-47ef-a106-c8aaf43e8934",
   "metadata": {},
   "outputs": [],
   "source": [
    "import os\n",
    "os.environ[\"OPENAI_MODEL_NAME\"] = 'gpt-4o-mini'"
   ]
  },
  {
   "cell_type": "code",
   "execution_count": null,
   "id": "f0df4c53-c727-41ab-a097-6f6742fe7ad9",
   "metadata": {},
   "outputs": [],
   "source": [
    "# Initialize the tools\n",
    "search_tool = SerperDevTool()\n",
    "scrape_tool = ScrapeWebsiteTool()"
   ]
  },
  {
   "cell_type": "code",
   "execution_count": null,
   "id": "275d0386-4381-4d69-ae9c-ca4ce0602fd1",
   "metadata": {},
   "outputs": [],
   "source": [
    "# Agent 1 - Flight Scraper\n",
    "\n",
    "flight_scraper_agent = Agent(\n",
    "    role = \"Scrap flight details\",\n",
    "    goal = \"Scrap latest flight prices and all other flight details \"\n",
    "            \" like flight number, departure/arrival timings,  duration, no of stops from the internet. \"\n",
    "            \" Make sure you check all popular Indian travel websites like makemytrip, easemytrip, adanione \",\n",
    "    backstory = \" I constantly travel for work and need to book cheapest flight satisfying all my constraints \",\n",
    "    tools = [search_tool, scrape_tool],\n",
    "    verbose = True,\n",
    "    allow_delegation = False,\n",
    ")\n",
    "\n",
    "\n",
    "# Agent 2 - Builds itinerary ensuring that I stay for x days. It also prefers early morning flight while going \n",
    "# and evening flight while returning\n",
    "\n",
    "itinerary_builder_agent = Agent(\n",
    "    role = \"Itinerary builder\",\n",
    "    goal = \" Build a itinerary and suggest which flights I should take in my journey which satisfies all my constraints \",\n",
    "    backstory = \"I constantly travel for work and need to book cheapest flight satisfying all my constraints \",\n",
    "    tools = [search_tool],\n",
    "    verbose = True,\n",
    "    allow_delegation = False,\n",
    ")"
   ]
  },
  {
   "cell_type": "code",
   "execution_count": null,
   "id": "6c1b8fb2-8f72-4623-9cd3-99c50104a177",
   "metadata": {},
   "outputs": [],
   "source": [
    "# Task 1 - Scrap flight prices from cityA to cityB & vice-versa for both direct and indirect flights\n",
    "\n",
    "flight_scraping_task = Task(\n",
    "    description = \"Get flight prices with all other details like departure/arrival timings, flight code, number of stops \"\n",
    "            \"for all flights running within next {trip_window_days} days from todays date \"\n",
    "            \" from {cityA} to {cityB} and vice versa i.e. from {cityB} to {cityA}. Get today's date from google \",\n",
    "    expected_output = \" Date, Flight Code, Departure Time, Arrival Time, Duration, No. of stops, flight price \"\n",
    "                        \" for both to and fro journey \",\n",
    "    human_input = True,\n",
    "    agent = flight_scraper_agent,\n",
    ")\n",
    "\n",
    "# Task 2 - Build itinerary for my upcoming trip from cityA to cityB\n",
    "# Constraints - 1) Morning flights in onward leg and evening/night flights in return leg\n",
    "# 2) Direct flights only\n",
    "# 3) My duration of stay in cityB is respected\n",
    "# 4) Suggest cheapest flights satisfying the above criteria\n",
    "\n",
    "itinerary_building_task = Task(\n",
    "    description = \" Build a itinerary and suggest which flight on which date should I take from {cityA} to {cityB} \"\n",
    "            \" and also when should I return back from {cityB} to {cityA}. \"\n",
    "            \" Ensure that I take the cheapest direct flights in my journey from {cityA} to {cityB} during morning \"\n",
    "            \" and cheapest direct evening/night flights during return journey from {cityB} to {cityA}.\" \n",
    "            \" I need to stay in {cityB} for {trip_duration} days \",\n",
    "    expected_output = \" For both to and fro journeys I should get one or more flights options which includes \"\n",
    "                      \" Journey date, Flight Details, Price \",\n",
    "    human_input = True,\n",
    "    agent = itinerary_builder_agent,\n",
    ")"
   ]
  },
  {
   "cell_type": "code",
   "execution_count": null,
   "id": "2c65cdbe-41c2-4421-802d-91a8aaea4e0a",
   "metadata": {},
   "outputs": [],
   "source": [
    "itinerary_crew = Crew(\n",
    "    agents = [flight_scraper_agent, itinerary_builder_agent],\n",
    "    tasks = [flight_scraping_task, itinerary_building_task],\n",
    "    verbose = True,\n",
    ")"
   ]
  },
  {
   "cell_type": "code",
   "execution_count": null,
   "id": "24ab19c2-4a7f-4eb7-9aff-ec0aa5a7bf7c",
   "metadata": {},
   "outputs": [],
   "source": [
    "parameters = {\n",
    "    \"cityA\": \"Delhi, India\",\n",
    "    \"cityB\": \"Bangalore, India\",\n",
    "    \"trip_duration\": 7, # days\n",
    "    \"trip_window_days\" : 30, # days\n",
    "}"
   ]
  },
  {
   "cell_type": "code",
   "execution_count": null,
   "id": "e4f69728-d08e-4cc8-bbf3-876d3265087e",
   "metadata": {},
   "outputs": [],
   "source": [
    "result = itinerary_crew.kickoff(inputs=parameters)"
   ]
  },
  {
   "cell_type": "code",
   "execution_count": null,
   "id": "320d38a9-0b3d-4ac7-a9b9-644a1f97a8ae",
   "metadata": {},
   "outputs": [],
   "source": []
  }
 ],
 "metadata": {
  "kernelspec": {
   "display_name": "Python 3 (ipykernel)",
   "language": "python",
   "name": "python3"
  },
  "language_info": {
   "codemirror_mode": {
    "name": "ipython",
    "version": 3
   },
   "file_extension": ".py",
   "mimetype": "text/x-python",
   "name": "python",
   "nbconvert_exporter": "python",
   "pygments_lexer": "ipython3",
   "version": "3.12.7"
  }
 },
 "nbformat": 4,
 "nbformat_minor": 5
}
